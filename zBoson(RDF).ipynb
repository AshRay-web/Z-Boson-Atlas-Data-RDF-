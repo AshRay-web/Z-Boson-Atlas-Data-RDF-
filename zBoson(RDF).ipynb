{
 "cells": [
  {
   "cell_type": "code",
   "execution_count": 5,
   "id": "ca815efa-3f8e-444f-aca1-92865dc47178",
   "metadata": {},
   "outputs": [],
   "source": [
    "#Importing essential packages\n",
    "import ROOT \n",
    "from ROOT import TCanvas"
   ]
  },
  {
   "cell_type": "markdown",
   "id": "8fb23fd9-702e-4b9f-8ee4-32bc2dafeaf8",
   "metadata": {},
   "source": [
    "Getting the link to the data from Atlas. 2 lepton data. \n",
    "We firstly use detector data to analyse. "
   ]
  },
  {
   "cell_type": "code",
   "execution_count": 6,
   "id": "675dfaaa-6871-41eb-891f-01d7f7f63c6a",
   "metadata": {},
   "outputs": [],
   "source": [
    "path = \"https://atlas-opendata.web.cern.ch/atlas-opendata/samples/2020/2lep/\""
   ]
  },
  {
   "cell_type": "markdown",
   "id": "d9877389-30c2-48f9-a337-a850b55634e6",
   "metadata": {},
   "source": [
    "Since the data has 4 data DataA, DataB, DataC. So I create a dictionary which will later come in handy. "
   ]
  },
  {
   "cell_type": "code",
   "execution_count": 7,
   "id": "1a0a4323-046b-40ca-abdc-139ab7051779",
   "metadata": {},
   "outputs": [],
   "source": [
    "sample = {\n",
    "    \"data\" : { \n",
    "    \"list\":[\"data_A\",\"data_B\",\"data_C\",\"data_D\",]\n",
    "    }\n",
    "}"
   ]
  },
  {
   "cell_type": "markdown",
   "id": "28893df9-0689-4312-be65-f0b929b3031b",
   "metadata": {},
   "source": [
    "Now we Retrieve and See what the data is about"
   ]
  },
  {
   "cell_type": "code",
   "execution_count": 8,
   "id": "4ff70282-d95a-404d-a921-ca572bef7b81",
   "metadata": {},
   "outputs": [],
   "source": [
    "value = sample[\"data\"][\"list\"][0]\n",
    "df = ROOT.RDataFrame (\"mini\", path+\"Data/\"+value+\".2lep.root\")"
   ]
  },
  {
   "cell_type": "markdown",
   "id": "74039357-fa0a-4d52-9fab-e87a07d469ff",
   "metadata": {},
   "source": [
    "Using this we see what are the columns of interest for us \n",
    "\n",
    "\n",
    "df.Describe().Print()\n",
    "\n",
    "We have lep_(pt,eta,phi,E,type,charge)\n",
    "\n"
   ]
  },
  {
   "cell_type": "code",
   "execution_count": null,
   "id": "e27ffac3-54f0-4703-80d5-bca256f01b4f",
   "metadata": {},
   "outputs": [],
   "source": [
    "#Looking at individiual column of data to see how they are \n",
    "df.Display(\"lep_type\").Print()"
   ]
  },
  {
   "cell_type": "markdown",
   "id": "8ec24609-6ce6-44e5-8c81-cd16f5f7d0d1",
   "metadata": {},
   "source": [
    "We now define columns which we later use for filtering purpose. "
   ]
  },
  {
   "cell_type": "code",
   "execution_count": null,
   "id": "66eadd6a-1329-45f5-ad31-d27fdce02bd8",
   "metadata": {},
   "outputs": [],
   "source": [
    "df2 = df.Define(\"lep_type_sum\",\"Sum(lep_type)\")\\\n",
    "        .Define(\"lep_charge_sum\", \"Sum(lep_charge)\")\n"
   ]
  },
  {
   "cell_type": "code",
   "execution_count": null,
   "id": "4c8d92c8-6fe0-4a8b-acca-9ff9b1bfc7c5",
   "metadata": {},
   "outputs": [],
   "source": [
    "df2.Display(\"lep_type_sum\").Print()\n",
    "df2.Display(\"lep_charge_sum\").Print()"
   ]
  },
  {
   "cell_type": "code",
   "execution_count": null,
   "id": "8a267d78-2115-4ea7-9528-29cbba0852b7",
   "metadata": {},
   "outputs": [],
   "source": [
    "df3 = df2.Filter(\"lep_type_sum == 22\")\\\n",
    "        .Filter(\"lep_charge_sum == 0 \")\\\n",
    "        .Define(\"higgs_vector\", \"\"\"\n",
    "        TLorentzVector higgs;\n",
    "        for (size_t i = 0; i < lep_pt.size(); ++i) {\n",
    "            TLorentzVector v;\n",
    "            v.SetPtEtaPhiE(lep_pt[i], lep_eta[i], lep_phi[i], lep_E[i]);\n",
    "            higgs += v;\n",
    "        }\n",
    "        return higgs;\n",
    "    \"\"\")"
   ]
  },
  {
   "cell_type": "code",
   "execution_count": null,
   "id": "d6997752-bf94-49a8-9e20-ded43c5b68e5",
   "metadata": {},
   "outputs": [],
   "source": [
    "df4 = df3.Define(\"invariantMass\",\"higgs_vector.M()*0.001\")"
   ]
  },
  {
   "cell_type": "markdown",
   "id": "1b800933-9f7b-4fda-bec7-21ff15002895",
   "metadata": {},
   "source": [
    "TIME IS FOR HISTOGRAMMMMMMMMMMMMMM"
   ]
  },
  {
   "cell_type": "code",
   "execution_count": null,
   "id": "94f148bf-5cd6-4abd-a965-677de9df4383",
   "metadata": {},
   "outputs": [],
   "source": [
    "#Canvas\n",
    "canvas = TCanvas(\"canvas\",\"Invariant Mass of Z Boson\",700,500)\n",
    "\n",
    "#Using the Histo1D action on hist \n",
    "hist = df4.Histo1D((\"hist\",\"\",10,40,140),\"invariantMass\")\n",
    "hist.Draw()\n",
    "canvas.Draw()\n",
    "\n"
   ]
  },
  {
   "cell_type": "code",
   "execution_count": null,
   "id": "5fea37a6-5529-4fde-ba85-c9d4b63ff105",
   "metadata": {},
   "outputs": [],
   "source": [
    "#Canvas\n",
    "canvas = TCanvas(\"canvas\",\"Invariant Mass of Z Boson\",700,500)\n",
    "\n",
    "#Defining the histogram \n",
    "z_total = ROOT.TH1F(\"hMinv\", \"Invariant Mass 2lep\", 10, 40, 140)\n",
    "\n",
    "#Using the Histo1D action on hist \n",
    "hist = df4.Histo1D((\"hist\",\"\",10,40,140),\"invariantMass\")\n",
    "\n",
    "# Add to final histogram\n",
    "z_total.Add(hist.GetPtr())  # Must use .GetPtr() to convert from RDF object to raw TH1"
   ]
  },
  {
   "cell_type": "code",
   "execution_count": null,
   "id": "1614d476-22bb-44ed-a586-b7e1409ddc2a",
   "metadata": {},
   "outputs": [],
   "source": [
    "z_total.Draw()\n",
    "canvas.Draw()"
   ]
  }
 ],
 "metadata": {
  "kernelspec": {
   "display_name": "Python (ROOT)",
   "language": "python",
   "name": "rootenv"
  },
  "language_info": {
   "codemirror_mode": {
    "name": "ipython",
    "version": 3
   },
   "file_extension": ".py",
   "mimetype": "text/x-python",
   "name": "python",
   "nbconvert_exporter": "python",
   "pygments_lexer": "ipython3",
   "version": "3.13.2"
  }
 },
 "nbformat": 4,
 "nbformat_minor": 5
}
