{
 "cells": [
  {
   "cell_type": "code",
   "execution_count": 1,
   "id": "3558940f-c82f-4241-826c-dab95ca4b666",
   "metadata": {},
   "outputs": [],
   "source": [
    "#Importing \n",
    "import ROOT\n",
    "from ROOT import TCanvas"
   ]
  },
  {
   "cell_type": "markdown",
   "id": "c4ad5bba-4b9c-46ff-b243-8915e7872020",
   "metadata": {},
   "source": [
    "## Samples List\n",
    "Defining the samples list useful later to loop over"
   ]
  },
  {
   "cell_type": "code",
   "execution_count": 2,
   "id": "2e78a0a2-0ceb-4e5d-b813-5d59467f5fc5",
   "metadata": {},
   "outputs": [],
   "source": [
    "#Path\n",
    "path = \"https://atlas-opendata.web.cern.ch/atlas-opendata/samples/2020/4lep/\" "
   ]
  },
  {
   "cell_type": "code",
   "execution_count": 3,
   "id": "4755be1c-5bbc-43b8-9be1-48a4d94aece5",
   "metadata": {},
   "outputs": [],
   "source": [
    "# For identification and naming\n",
    "sample = {\n",
    "\n",
    "    'data': {\n",
    "        'list' : ['data_A','data_B','data_C','data_D'], # data is from 2016, first four periods of data taking (ABCD)\n",
    "    }}"
   ]
  },
  {
   "cell_type": "code",
   "execution_count": null,
   "id": "a00e21de-b4e3-476d-bca5-ee8095113fbd",
   "metadata": {},
   "outputs": [],
   "source": []
  },
  {
   "cell_type": "markdown",
   "id": "12b6df73-f4db-4d66-ac3d-3d2070d84dca",
   "metadata": {},
   "source": [
    "## Data Retriving and Filtering"
   ]
  },
  {
   "cell_type": "code",
   "execution_count": null,
   "id": "cb82a84b-1a92-4d88-829c-9b4d5172c206",
   "metadata": {},
   "outputs": [],
   "source": [
    "#Defining the histogram and the canvas\n",
    "canvas = TCanvas(\"c1\",\"Invariant Mass of Data\",700,500)\n",
    "\n",
    "# Create final histogram to add into\n",
    "h_total = ROOT.TH1F(\"hMinv\", \"Invariant Mass 4lep\", 10, 80, 160)\n",
    "\n",
    "for value in sample['data']['list']:\n",
    "\n",
    "    # ATLAS Open Data directory\n",
    "    path = \"https://atlas-opendata.web.cern.ch/atlas-opendata/samples/2020/4lep/\" \n",
    "\n",
    "\n",
    "\n",
    "    ######## Getting the data online from dataframe \n",
    "    df = ROOT.RDataFrame(\"mini\", path+\"Data/\"+value+\".4lep.root\")\n",
    "\n",
    "    ## I will now try to create a cut off here first using the column i saw above\n",
    "\n",
    "    df2 = df.Define(\"lep_type_sum\", \"Sum(lep_type)\")\\\n",
    "        .Define(\"lep_charge_sum\", \"Sum(lep_charge)\")\n",
    "\n",
    "    ## Try to create another column with lorentz Vector of the 4 leptons naming its higgs_vector\n",
    "    df2 = df2.Filter(\"lep_type_sum == 48 || lep_type_sum == 22 || lep_type_sum == 52\") \\\n",
    "             .Filter(\"lep_charge_sum == 0\")\\\n",
    "             .Define(\"higgs_vector\", \"\"\"\n",
    "        TLorentzVector higgs;\n",
    "        for (size_t i = 0; i < lep_pt.size(); ++i) {\n",
    "            TLorentzVector v;\n",
    "            v.SetPtEtaPhiE(lep_pt[i], lep_eta[i], lep_phi[i], lep_E[i]);\n",
    "            higgs += v;\n",
    "        }\n",
    "        return higgs;\n",
    "    \"\"\")\n",
    "    ## Now getting the mass of the 4 lep \n",
    "    df2 = df2.Define(\"invariant_mass\",\"higgs_vector.M() * 0.001 \")\n",
    "    \n",
    "    # Create histogram for this file\n",
    "    h_tmp = df2.Histo1D((\"hTmp\", \"\", 10, 80, 160), \"invariant_mass\")\n",
    "    \n",
    "    # Add to final histogram\n",
    "    h_total.Add(h_tmp.GetPtr())  # Must use .GetPtr() to convert from RDF object to raw TH1\n",
    "   "
   ]
  },
  {
   "cell_type": "code",
   "execution_count": null,
   "id": "c257623f-a442-4f10-befb-98733f72f467",
   "metadata": {},
   "outputs": [],
   "source": [
    "h_total.Draw()\n",
    "canvas.Draw()"
   ]
  },
  {
   "cell_type": "markdown",
   "id": "8f618ed7-cbad-4985-8ab2-0353b8149ed3",
   "metadata": {},
   "source": [
    "## Calculating the invariant Mass"
   ]
  },
  {
   "cell_type": "code",
   "execution_count": null,
   "id": "e55cbcdc-b41d-4046-8e5c-0533589c8716",
   "metadata": {},
   "outputs": [],
   "source": [
    "#Defining new column using the data (columns ) given "
   ]
  },
  {
   "cell_type": "markdown",
   "id": "1c6a8354-9529-4e03-bda2-7429c457cd83",
   "metadata": {},
   "source": [
    "## Plotting the hist"
   ]
  },
  {
   "cell_type": "code",
   "execution_count": null,
   "id": "920b4636-3290-42db-9c0d-c3568b4cbdd7",
   "metadata": {},
   "outputs": [],
   "source": [
    "## Beautifying the graph"
   ]
  },
  {
   "cell_type": "markdown",
   "id": "d1a4a889-3ac7-4697-82e1-8b7497384a8f",
   "metadata": {},
   "source": [
    "## Looping over all if needed"
   ]
  },
  {
   "cell_type": "code",
   "execution_count": null,
   "id": "bcc4356a-0476-4e79-95be-4db3a3a18f2c",
   "metadata": {},
   "outputs": [],
   "source": []
  }
 ],
 "metadata": {
  "kernelspec": {
   "display_name": "Python (ROOT)",
   "language": "python",
   "name": "rootenv"
  },
  "language_info": {
   "codemirror_mode": {
    "name": "ipython",
    "version": 3
   },
   "file_extension": ".py",
   "mimetype": "text/x-python",
   "name": "python",
   "nbconvert_exporter": "python",
   "pygments_lexer": "ipython3",
   "version": "3.13.2"
  }
 },
 "nbformat": 4,
 "nbformat_minor": 5
}
